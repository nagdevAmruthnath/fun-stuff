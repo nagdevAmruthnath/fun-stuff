{
 "cells": [
  {
   "cell_type": "markdown",
   "metadata": {},
   "source": [
    "# Testing with apply, foreach and for loops in R\n",
    "\n",
    "Similar to programs like C or C++, in R you can do looping to do some sort of iteration using for, apply and foreach functions.  \n",
    "\n",
    "1. for: like any other programming, this loops user defined n time to do something\n",
    "2. apply: similar to for, apply can iterate over row or column to do a user defined task\n",
    "3. foreach: this function is like for function but, on steroids. Here, we can use parallel computing to perform for loops in parallel.  \n",
    "\n",
    "To test out the performance of each of the functions, we will use different data sizes to see which performs better.  \n",
    "getRes() function will basically look at a row to see it it meets constraints like if number of '1' in a row is less than or equal to something and if it is then it return 1 else 0. We can use this function against a dataframe to compare the results. \n",
    "    "
   ]
  },
  {
   "cell_type": "code",
   "execution_count": 43,
   "metadata": {},
   "outputs": [],
   "source": [
    "library(dplyr)\n",
    "library(microbenchmark)"
   ]
  },
  {
   "cell_type": "code",
   "execution_count": 2,
   "metadata": {},
   "outputs": [],
   "source": [
    "getRes = function(combinations) {\n",
    "  row = combinations\n",
    "  one = length(which(row==1))\n",
    "  two = length(which(row==2))\n",
    "  three = length(which(row==3))\n",
    "  if(one <= 6) \n",
    "    {\n",
    "      if(two <= 5)\n",
    "      {\n",
    "        if(three == 1)\n",
    "        {\n",
    "          return(1) \n",
    "        }\n",
    "        else {return(0)}\n",
    "      }\n",
    "    else {return(0)}\n",
    "  }\n",
    "  else {return(0)}\n",
    "}"
   ]
  },
  {
   "cell_type": "markdown",
   "metadata": {},
   "source": [
    "## Apply\n",
    "Create an apply loop function to run the getRes function. "
   ]
  },
  {
   "cell_type": "code",
   "execution_count": 4,
   "metadata": {},
   "outputs": [],
   "source": [
    "apply_loop = function (combinations){\n",
    "    x1= as.POSIXct(Sys.time())\n",
    "    res = NULL\n",
    "\n",
    "    res = apply(combinations,1,getRes)\n",
    "    x2= as.POSIXct(Sys.time())\n",
    "    #return(res)\n",
    "    return(as.difftime(x2-x1, units = \"secs\"))\n",
    "}\n"
   ]
  },
  {
   "cell_type": "markdown",
   "metadata": {},
   "source": [
    "## Foreach\n",
    "Create an foreach loop function to run the getRes function. "
   ]
  },
  {
   "cell_type": "code",
   "execution_count": 5,
   "metadata": {},
   "outputs": [
    {
     "name": "stderr",
     "output_type": "stream",
     "text": [
      "Loading required package: iterators\n",
      "Loading required package: parallel\n"
     ]
    }
   ],
   "source": [
    "library(foreach)\n",
    "library(doParallel)\n",
    "library(parallel)\n",
    "\n",
    "foreach_loop = function (combinations){\n",
    "    cl <- makeCluster(16)\n",
    "    clusterExport(cl, c(\"getRes\"))\n",
    "    registerDoParallel(cl)\n",
    "\n",
    "    x1= as.POSIXct(Sys.time())\n",
    "\n",
    "    res = NULL\n",
    "    res = foreach(i = 1:nrow(combinations), .combine = rbind) %dopar% {\n",
    "        getRes(combinations[i,])\n",
    "    }\n",
    "\n",
    "    x2= as.POSIXct(Sys.time())\n",
    "\n",
    "    stopCluster(cl)\n",
    "    #return(res)\n",
    "    return(as.difftime(x2-x1, units = \"secs\"))\n",
    "}\n"
   ]
  },
  {
   "cell_type": "markdown",
   "metadata": {},
   "source": [
    "## For\n",
    "Create an for loop function to run the getRes function. "
   ]
  },
  {
   "cell_type": "code",
   "execution_count": 6,
   "metadata": {},
   "outputs": [],
   "source": [
    "for_loop = function (combinations){\n",
    "    x1= as.POSIXct(Sys.time())\n",
    "    res=NULL\n",
    "    for(i in 1:nrow(combinations)) {\n",
    "        res[i] = getRes(combinations[i,])\n",
    "    }\n",
    "\n",
    "    x2= as.POSIXct(Sys.time())\n",
    "    #return(res)\n",
    "    return(as.difftime(x2-x1, units = \"secs\"))\n",
    "}"
   ]
  },
  {
   "cell_type": "markdown",
   "metadata": {},
   "source": [
    "## Microbenchmark\n",
    "Do a microbench study to run all different loops and get some statistics. Microbench will perform 5 iterations. Dplyr package is used to group and summarize the data. "
   ]
  },
  {
   "cell_type": "code",
   "execution_count": 7,
   "metadata": {},
   "outputs": [
    {
     "data": {
      "text/html": [
       "<table>\n",
       "<thead><tr><th scope=col>expr</th><th scope=col>mean</th><th scope=col>sd</th><th scope=col>min</th><th scope=col>max</th><th scope=col>size</th></tr></thead>\n",
       "<tbody>\n",
       "\t<tr><td>apply_loop(combinations)  </td><td>0.005530384               </td><td>0.005370513               </td><td>0.000274155               </td><td> 0.013071287              </td><td>3                         </td></tr>\n",
       "\t<tr><td>foreach_loop(combinations)</td><td>8.803406354               </td><td>1.063827929               </td><td>7.817635844               </td><td>10.580139362              </td><td>3                         </td></tr>\n",
       "\t<tr><td>for_loop(combinations)    </td><td>0.002028997               </td><td>0.003826046               </td><td>0.000259613               </td><td> 0.008872582              </td><td>3                         </td></tr>\n",
       "</tbody>\n",
       "</table>\n"
      ],
      "text/latex": [
       "\\begin{tabular}{r|llllll}\n",
       " expr & mean & sd & min & max & size\\\\\n",
       "\\hline\n",
       "\t apply\\_loop(combinations)   & 0.005530384                  & 0.005370513                  & 0.000274155                  &  0.013071287                 & 3                           \\\\\n",
       "\t foreach\\_loop(combinations) & 8.803406354                  & 1.063827929                  & 7.817635844                  & 10.580139362                 & 3                           \\\\\n",
       "\t for\\_loop(combinations)     & 0.002028997                  & 0.003826046                  & 0.000259613                  &  0.008872582                 & 3                           \\\\\n",
       "\\end{tabular}\n"
      ],
      "text/markdown": [
       "\n",
       "| expr | mean | sd | min | max | size |\n",
       "|---|---|---|---|---|---|\n",
       "| apply_loop(combinations)   | 0.005530384                | 0.005370513                | 0.000274155                |  0.013071287               | 3                          |\n",
       "| foreach_loop(combinations) | 8.803406354                | 1.063827929                | 7.817635844                | 10.580139362               | 3                          |\n",
       "| for_loop(combinations)     | 0.002028997                | 0.003826046                | 0.000259613                |  0.008872582               | 3                          |\n",
       "\n"
      ],
      "text/plain": [
       "  expr                       mean        sd          min         max         \n",
       "1 apply_loop(combinations)   0.005530384 0.005370513 0.000274155  0.013071287\n",
       "2 foreach_loop(combinations) 8.803406354 1.063827929 7.817635844 10.580139362\n",
       "3 for_loop(combinations)     0.002028997 0.003826046 0.000259613  0.008872582\n",
       "  size\n",
       "1 3   \n",
       "2 3   \n",
       "3 3   "
      ]
     },
     "metadata": {},
     "output_type": "display_data"
    }
   ],
   "source": [
    "mbLoops1 = NULL\n",
    "combinations = expand.grid(c(1:3))\n",
    "\n",
    "mbLoops = function(combinations) {\n",
    "        res = microbenchmark(apply_loop(combinations), foreach_loop(combinations), for_loop(combinations), times=5)\n",
    "\n",
    "        res1 = res\n",
    "        res1$time = res1$time/1000000000\n",
    "\n",
    "        mb = res1 %>% group_by(expr) %>% summarise (mean = mean(time)\n",
    "                                              ,sd = sd(time)\n",
    "                                              ,min = min(time)\n",
    "                                              ,max = max(time)\n",
    "                                             )\n",
    "        mb$size = nrow(combinations)\n",
    "        return(data.frame(mb))\n",
    "    }\n",
    "\n",
    "mbLoops1 = rbind(mbLoops(combinations), mbLoops1)\n",
    "mbLoops1"
   ]
  },
  {
   "cell_type": "markdown",
   "metadata": {},
   "source": [
    "Increase the data size and run different loops. "
   ]
  },
  {
   "cell_type": "code",
   "execution_count": 8,
   "metadata": {},
   "outputs": [
    {
     "data": {
      "text/html": [
       "<table>\n",
       "<thead><tr><th scope=col>expr</th><th scope=col>mean</th><th scope=col>sd</th><th scope=col>min</th><th scope=col>max</th><th scope=col>size</th></tr></thead>\n",
       "<tbody>\n",
       "\t<tr><td>apply_loop(combinations)  </td><td>0.0003702156              </td><td>0.0001160650              </td><td>0.000245072               </td><td> 0.000558146              </td><td>9                         </td></tr>\n",
       "\t<tr><td>foreach_loop(combinations)</td><td>8.9235569714              </td><td>1.0460634556              </td><td>7.948781962               </td><td>10.436508331              </td><td>9                         </td></tr>\n",
       "\t<tr><td>for_loop(combinations)    </td><td>0.0023198312              </td><td>0.0003075862              </td><td>0.002012317               </td><td> 0.002833496              </td><td>9                         </td></tr>\n",
       "\t<tr><td>apply_loop(combinations)  </td><td>0.0055303840              </td><td>0.0053705130              </td><td>0.000274155               </td><td> 0.013071287              </td><td>3                         </td></tr>\n",
       "\t<tr><td>foreach_loop(combinations)</td><td>8.8034063536              </td><td>1.0638279289              </td><td>7.817635844               </td><td>10.580139362              </td><td>3                         </td></tr>\n",
       "\t<tr><td>for_loop(combinations)    </td><td>0.0020289966              </td><td>0.0038260461              </td><td>0.000259613               </td><td> 0.008872582              </td><td>3                         </td></tr>\n",
       "</tbody>\n",
       "</table>\n"
      ],
      "text/latex": [
       "\\begin{tabular}{r|llllll}\n",
       " expr & mean & sd & min & max & size\\\\\n",
       "\\hline\n",
       "\t apply\\_loop(combinations)   & 0.0003702156                 & 0.0001160650                 & 0.000245072                  &  0.000558146                 & 9                           \\\\\n",
       "\t foreach\\_loop(combinations) & 8.9235569714                 & 1.0460634556                 & 7.948781962                  & 10.436508331                 & 9                           \\\\\n",
       "\t for\\_loop(combinations)     & 0.0023198312                 & 0.0003075862                 & 0.002012317                  &  0.002833496                 & 9                           \\\\\n",
       "\t apply\\_loop(combinations)   & 0.0055303840                 & 0.0053705130                 & 0.000274155                  &  0.013071287                 & 3                           \\\\\n",
       "\t foreach\\_loop(combinations) & 8.8034063536                 & 1.0638279289                 & 7.817635844                  & 10.580139362                 & 3                           \\\\\n",
       "\t for\\_loop(combinations)     & 0.0020289966                 & 0.0038260461                 & 0.000259613                  &  0.008872582                 & 3                           \\\\\n",
       "\\end{tabular}\n"
      ],
      "text/markdown": [
       "\n",
       "| expr | mean | sd | min | max | size |\n",
       "|---|---|---|---|---|---|\n",
       "| apply_loop(combinations)   | 0.0003702156               | 0.0001160650               | 0.000245072                |  0.000558146               | 9                          |\n",
       "| foreach_loop(combinations) | 8.9235569714               | 1.0460634556               | 7.948781962                | 10.436508331               | 9                          |\n",
       "| for_loop(combinations)     | 0.0023198312               | 0.0003075862               | 0.002012317                |  0.002833496               | 9                          |\n",
       "| apply_loop(combinations)   | 0.0055303840               | 0.0053705130               | 0.000274155                |  0.013071287               | 3                          |\n",
       "| foreach_loop(combinations) | 8.8034063536               | 1.0638279289               | 7.817635844                | 10.580139362               | 3                          |\n",
       "| for_loop(combinations)     | 0.0020289966               | 0.0038260461               | 0.000259613                |  0.008872582               | 3                          |\n",
       "\n"
      ],
      "text/plain": [
       "  expr                       mean         sd           min         max         \n",
       "1 apply_loop(combinations)   0.0003702156 0.0001160650 0.000245072  0.000558146\n",
       "2 foreach_loop(combinations) 8.9235569714 1.0460634556 7.948781962 10.436508331\n",
       "3 for_loop(combinations)     0.0023198312 0.0003075862 0.002012317  0.002833496\n",
       "4 apply_loop(combinations)   0.0055303840 0.0053705130 0.000274155  0.013071287\n",
       "5 foreach_loop(combinations) 8.8034063536 1.0638279289 7.817635844 10.580139362\n",
       "6 for_loop(combinations)     0.0020289966 0.0038260461 0.000259613  0.008872582\n",
       "  size\n",
       "1 9   \n",
       "2 9   \n",
       "3 9   \n",
       "4 3   \n",
       "5 3   \n",
       "6 3   "
      ]
     },
     "metadata": {},
     "output_type": "display_data"
    }
   ],
   "source": [
    "combinations = expand.grid(c(1:3), c(1:3))\n",
    "\n",
    "mbLoops1 = rbind(mbLoops(combinations), mbLoops1)"
   ]
  },
  {
   "cell_type": "code",
   "execution_count": 9,
   "metadata": {},
   "outputs": [],
   "source": [
    "combinations = expand.grid(c(1:3), c(1:3), c(1:3))\n",
    "\n",
    "mbLoops1 = rbind(mbLoops(combinations), mbLoops1)"
   ]
  },
  {
   "cell_type": "code",
   "execution_count": 10,
   "metadata": {},
   "outputs": [],
   "source": [
    "combinations = expand.grid(c(1:3), c(1:3), c(1:3), c(1:3))\n",
    "\n",
    "mbLoops1 = rbind(mbLoops(combinations), mbLoops1)"
   ]
  },
  {
   "cell_type": "code",
   "execution_count": 11,
   "metadata": {},
   "outputs": [],
   "source": [
    "combinations = expand.grid(c(1:3), c(1:3), c(1:3), c(1:3), c(1:3))\n",
    "\n",
    "mbLoops1 = rbind(mbLoops(combinations), mbLoops1)"
   ]
  },
  {
   "cell_type": "code",
   "execution_count": 12,
   "metadata": {},
   "outputs": [],
   "source": [
    "combinations = expand.grid(c(1:3), c(1:3), c(1:3), c(1:3), c(1:3), c(1:3))\n",
    "\n",
    "mbLoops1 = rbind(mbLoops(combinations), mbLoops1)"
   ]
  },
  {
   "cell_type": "code",
   "execution_count": 13,
   "metadata": {},
   "outputs": [],
   "source": [
    "combinations = expand.grid(c(1:3), c(1:3), c(1:3), c(1:3), c(1:3), c(1:3), c(1:3))\n",
    "\n",
    "mbLoops1 = rbind(mbLoops(combinations), mbLoops1)"
   ]
  },
  {
   "cell_type": "code",
   "execution_count": 14,
   "metadata": {},
   "outputs": [],
   "source": [
    "combinations = expand.grid(c(1:3), c(1:3), c(1:3), c(1:3), c(1:3), c(1:3), c(1:3), c(1:3))\n",
    "\n",
    "mbLoops1 = rbind(mbLoops(combinations), mbLoops1)"
   ]
  },
  {
   "cell_type": "code",
   "execution_count": 15,
   "metadata": {},
   "outputs": [],
   "source": [
    "combinations = expand.grid(c(1:3), c(1:3), c(1:3), c(1:3), c(1:3), c(1:3), c(1:3), c(1:3), c(1:3))\n",
    "\n",
    "mbLoops1 = rbind(mbLoops(combinations), mbLoops1)"
   ]
  },
  {
   "cell_type": "code",
   "execution_count": 20,
   "metadata": {},
   "outputs": [],
   "source": [
    "combinations = expand.grid(c(1:3), c(1:3), c(1:3), c(1:3), c(1:3), c(1:3), c(1:3), c(1:3), c(1:3), c(1:3))\n",
    "\n",
    "mbLoops1 = rbind(mbLoops(combinations), mbLoops1)"
   ]
  },
  {
   "cell_type": "code",
   "execution_count": 21,
   "metadata": {},
   "outputs": [],
   "source": [
    "combinations = expand.grid(c(1:3), c(1:3), c(1:3), c(1:3), c(1:3), c(1:3), c(1:3), c(1:3), c(1:3), c(1:3), c(1:3))\n",
    "\n",
    "mbLoops1 = rbind(mbLoops(combinations), mbLoops1)"
   ]
  },
  {
   "cell_type": "markdown",
   "metadata": {},
   "source": [
    "View summarized data metrics. Although its hard to make out the difference we can tell apply method was consistently faster compared to the rest of the function loops. "
   ]
  },
  {
   "cell_type": "code",
   "execution_count": 22,
   "metadata": {},
   "outputs": [
    {
     "data": {
      "text/html": [
       "<table>\n",
       "<thead><tr><th scope=col>expr</th><th scope=col>mean</th><th scope=col>sd</th><th scope=col>min</th><th scope=col>max</th><th scope=col>size</th></tr></thead>\n",
       "<tbody>\n",
       "\t<tr><td>apply_loop(combinations)  </td><td>1.848387e+00              </td><td>3.015175e-01              </td><td>1.471994e+00              </td><td>2.226259e+00              </td><td>177147                    </td></tr>\n",
       "\t<tr><td>foreach_loop(combinations)</td><td>1.756939e+02              </td><td>4.049650e+00              </td><td>1.717026e+02              </td><td>1.804578e+02              </td><td>177147                    </td></tr>\n",
       "\t<tr><td>for_loop(combinations)    </td><td>1.222849e+02              </td><td>2.437452e+00              </td><td>1.186793e+02              </td><td>1.252447e+02              </td><td>177147                    </td></tr>\n",
       "\t<tr><td>apply_loop(combinations)  </td><td>6.452159e-01              </td><td>1.307745e-01              </td><td>4.601797e-01              </td><td>7.801982e-01              </td><td> 59049                    </td></tr>\n",
       "\t<tr><td>foreach_loop(combinations)</td><td>6.246728e+01              </td><td>7.165803e+00              </td><td>5.700542e+01              </td><td>7.461992e+01              </td><td> 59049                    </td></tr>\n",
       "\t<tr><td>for_loop(combinations)    </td><td>3.708779e+01              </td><td>9.613432e-01              </td><td>3.541777e+01              </td><td>3.783785e+01              </td><td> 59049                    </td></tr>\n",
       "\t<tr><td>apply_loop(combinations)  </td><td>2.185719e-01              </td><td>8.620030e-02              </td><td>1.540690e-01              </td><td>3.656175e-01              </td><td> 19683                    </td></tr>\n",
       "\t<tr><td>foreach_loop(combinations)</td><td>2.780690e+01              </td><td>4.613920e+00              </td><td>2.177694e+01              </td><td>3.357440e+01              </td><td> 19683                    </td></tr>\n",
       "\t<tr><td>for_loop(combinations)    </td><td>1.127049e+01              </td><td>5.266426e-01              </td><td>1.063290e+01              </td><td>1.190946e+01              </td><td> 19683                    </td></tr>\n",
       "\t<tr><td>apply_loop(combinations)  </td><td>5.888674e-02              </td><td>9.910095e-03              </td><td>5.019370e-02              </td><td>6.975744e-02              </td><td>  6561                    </td></tr>\n",
       "\t<tr><td>foreach_loop(combinations)</td><td>1.352766e+01              </td><td>7.251917e-01              </td><td>1.256073e+01              </td><td>1.418346e+01              </td><td>  6561                    </td></tr>\n",
       "\t<tr><td>for_loop(combinations)    </td><td>3.338984e+00              </td><td>1.610815e-01              </td><td>3.139273e+00              </td><td>3.567581e+00              </td><td>  6561                    </td></tr>\n",
       "\t<tr><td>apply_loop(combinations)  </td><td>1.710918e-02              </td><td>3.091247e-03              </td><td>1.499721e-02              </td><td>2.237071e-02              </td><td>  2187                    </td></tr>\n",
       "\t<tr><td>foreach_loop(combinations)</td><td>1.083804e+01              </td><td>1.087520e+00              </td><td>9.656102e+00              </td><td>1.251217e+01              </td><td>  2187                    </td></tr>\n",
       "\t<tr><td>for_loop(combinations)    </td><td>1.053878e+00              </td><td>3.105298e-02              </td><td>1.022057e+00              </td><td>1.086726e+00              </td><td>  2187                    </td></tr>\n",
       "\t<tr><td>apply_loop(combinations)  </td><td>7.342367e-03              </td><td>2.497263e-03              </td><td>5.242287e-03              </td><td>1.052349e-02              </td><td>   729                    </td></tr>\n",
       "\t<tr><td>foreach_loop(combinations)</td><td>1.078135e+01              </td><td>2.409862e+00              </td><td>8.325451e+00              </td><td>1.378549e+01              </td><td>   729                    </td></tr>\n",
       "\t<tr><td>for_loop(combinations)    </td><td>3.257564e-01              </td><td>1.426109e-02              </td><td>3.101118e-01              </td><td>3.424846e-01              </td><td>   729                    </td></tr>\n",
       "\t<tr><td>apply_loop(combinations)  </td><td>2.320430e-03              </td><td>5.140325e-04              </td><td>1.909242e-03              </td><td>3.215429e-03              </td><td>   243                    </td></tr>\n",
       "\t<tr><td>foreach_loop(combinations)</td><td>8.617141e+00              </td><td>4.455053e-01              </td><td>8.162380e+00              </td><td>9.211201e+00              </td><td>   243                    </td></tr>\n",
       "\t<tr><td>for_loop(combinations)    </td><td>9.985638e-02              </td><td>1.557837e-02              </td><td>8.301563e-02              </td><td>1.190833e-01              </td><td>   243                    </td></tr>\n",
       "\t<tr><td>apply_loop(combinations)  </td><td>9.512850e-04              </td><td>9.314809e-05              </td><td>8.648040e-04              </td><td>1.070955e-03              </td><td>    81                    </td></tr>\n",
       "\t<tr><td>foreach_loop(combinations)</td><td>8.679981e+00              </td><td>9.159937e-01              </td><td>7.738644e+00              </td><td>1.009787e+01              </td><td>    81                    </td></tr>\n",
       "\t<tr><td>for_loop(combinations)    </td><td>2.897367e-02              </td><td>4.510389e-03              </td><td>2.456052e-02              </td><td>3.390228e-02              </td><td>    81                    </td></tr>\n",
       "\t<tr><td>apply_loop(combinations)  </td><td>4.961294e-04              </td><td>5.366293e-05              </td><td>4.114450e-04              </td><td>5.598560e-04              </td><td>    27                    </td></tr>\n",
       "\t<tr><td>foreach_loop(combinations)</td><td>8.584492e+00              </td><td>1.111153e+00              </td><td>7.625042e+00              </td><td>1.049534e+01              </td><td>    27                    </td></tr>\n",
       "\t<tr><td>for_loop(combinations)    </td><td>6.967276e-03              </td><td>2.343557e-03              </td><td>5.693507e-03              </td><td>1.115007e-02              </td><td>    27                    </td></tr>\n",
       "\t<tr><td>apply_loop(combinations)  </td><td>3.702156e-04              </td><td>1.160650e-04              </td><td>2.450720e-04              </td><td>5.581460e-04              </td><td>     9                    </td></tr>\n",
       "\t<tr><td>foreach_loop(combinations)</td><td>8.923557e+00              </td><td>1.046063e+00              </td><td>7.948782e+00              </td><td>1.043651e+01              </td><td>     9                    </td></tr>\n",
       "\t<tr><td>for_loop(combinations)    </td><td>2.319831e-03              </td><td>3.075862e-04              </td><td>2.012317e-03              </td><td>2.833496e-03              </td><td>     9                    </td></tr>\n",
       "\t<tr><td>apply_loop(combinations)  </td><td>5.530384e-03              </td><td>5.370513e-03              </td><td>2.741550e-04              </td><td>1.307129e-02              </td><td>     3                    </td></tr>\n",
       "\t<tr><td>foreach_loop(combinations)</td><td>8.803406e+00              </td><td>1.063828e+00              </td><td>7.817636e+00              </td><td>1.058014e+01              </td><td>     3                    </td></tr>\n",
       "\t<tr><td>for_loop(combinations)    </td><td>2.028997e-03              </td><td>3.826046e-03              </td><td>2.596130e-04              </td><td>8.872582e-03              </td><td>     3                    </td></tr>\n",
       "</tbody>\n",
       "</table>\n"
      ],
      "text/latex": [
       "\\begin{tabular}{r|llllll}\n",
       " expr & mean & sd & min & max & size\\\\\n",
       "\\hline\n",
       "\t apply\\_loop(combinations)   & 1.848387e+00                 & 3.015175e-01                 & 1.471994e+00                 & 2.226259e+00                 & 177147                      \\\\\n",
       "\t foreach\\_loop(combinations) & 1.756939e+02                 & 4.049650e+00                 & 1.717026e+02                 & 1.804578e+02                 & 177147                      \\\\\n",
       "\t for\\_loop(combinations)     & 1.222849e+02                 & 2.437452e+00                 & 1.186793e+02                 & 1.252447e+02                 & 177147                      \\\\\n",
       "\t apply\\_loop(combinations)   & 6.452159e-01                 & 1.307745e-01                 & 4.601797e-01                 & 7.801982e-01                 &  59049                      \\\\\n",
       "\t foreach\\_loop(combinations) & 6.246728e+01                 & 7.165803e+00                 & 5.700542e+01                 & 7.461992e+01                 &  59049                      \\\\\n",
       "\t for\\_loop(combinations)     & 3.708779e+01                 & 9.613432e-01                 & 3.541777e+01                 & 3.783785e+01                 &  59049                      \\\\\n",
       "\t apply\\_loop(combinations)   & 2.185719e-01                 & 8.620030e-02                 & 1.540690e-01                 & 3.656175e-01                 &  19683                      \\\\\n",
       "\t foreach\\_loop(combinations) & 2.780690e+01                 & 4.613920e+00                 & 2.177694e+01                 & 3.357440e+01                 &  19683                      \\\\\n",
       "\t for\\_loop(combinations)     & 1.127049e+01                 & 5.266426e-01                 & 1.063290e+01                 & 1.190946e+01                 &  19683                      \\\\\n",
       "\t apply\\_loop(combinations)   & 5.888674e-02                 & 9.910095e-03                 & 5.019370e-02                 & 6.975744e-02                 &   6561                      \\\\\n",
       "\t foreach\\_loop(combinations) & 1.352766e+01                 & 7.251917e-01                 & 1.256073e+01                 & 1.418346e+01                 &   6561                      \\\\\n",
       "\t for\\_loop(combinations)     & 3.338984e+00                 & 1.610815e-01                 & 3.139273e+00                 & 3.567581e+00                 &   6561                      \\\\\n",
       "\t apply\\_loop(combinations)   & 1.710918e-02                 & 3.091247e-03                 & 1.499721e-02                 & 2.237071e-02                 &   2187                      \\\\\n",
       "\t foreach\\_loop(combinations) & 1.083804e+01                 & 1.087520e+00                 & 9.656102e+00                 & 1.251217e+01                 &   2187                      \\\\\n",
       "\t for\\_loop(combinations)     & 1.053878e+00                 & 3.105298e-02                 & 1.022057e+00                 & 1.086726e+00                 &   2187                      \\\\\n",
       "\t apply\\_loop(combinations)   & 7.342367e-03                 & 2.497263e-03                 & 5.242287e-03                 & 1.052349e-02                 &    729                      \\\\\n",
       "\t foreach\\_loop(combinations) & 1.078135e+01                 & 2.409862e+00                 & 8.325451e+00                 & 1.378549e+01                 &    729                      \\\\\n",
       "\t for\\_loop(combinations)     & 3.257564e-01                 & 1.426109e-02                 & 3.101118e-01                 & 3.424846e-01                 &    729                      \\\\\n",
       "\t apply\\_loop(combinations)   & 2.320430e-03                 & 5.140325e-04                 & 1.909242e-03                 & 3.215429e-03                 &    243                      \\\\\n",
       "\t foreach\\_loop(combinations) & 8.617141e+00                 & 4.455053e-01                 & 8.162380e+00                 & 9.211201e+00                 &    243                      \\\\\n",
       "\t for\\_loop(combinations)     & 9.985638e-02                 & 1.557837e-02                 & 8.301563e-02                 & 1.190833e-01                 &    243                      \\\\\n",
       "\t apply\\_loop(combinations)   & 9.512850e-04                 & 9.314809e-05                 & 8.648040e-04                 & 1.070955e-03                 &     81                      \\\\\n",
       "\t foreach\\_loop(combinations) & 8.679981e+00                 & 9.159937e-01                 & 7.738644e+00                 & 1.009787e+01                 &     81                      \\\\\n",
       "\t for\\_loop(combinations)     & 2.897367e-02                 & 4.510389e-03                 & 2.456052e-02                 & 3.390228e-02                 &     81                      \\\\\n",
       "\t apply\\_loop(combinations)   & 4.961294e-04                 & 5.366293e-05                 & 4.114450e-04                 & 5.598560e-04                 &     27                      \\\\\n",
       "\t foreach\\_loop(combinations) & 8.584492e+00                 & 1.111153e+00                 & 7.625042e+00                 & 1.049534e+01                 &     27                      \\\\\n",
       "\t for\\_loop(combinations)     & 6.967276e-03                 & 2.343557e-03                 & 5.693507e-03                 & 1.115007e-02                 &     27                      \\\\\n",
       "\t apply\\_loop(combinations)   & 3.702156e-04                 & 1.160650e-04                 & 2.450720e-04                 & 5.581460e-04                 &      9                      \\\\\n",
       "\t foreach\\_loop(combinations) & 8.923557e+00                 & 1.046063e+00                 & 7.948782e+00                 & 1.043651e+01                 &      9                      \\\\\n",
       "\t for\\_loop(combinations)     & 2.319831e-03                 & 3.075862e-04                 & 2.012317e-03                 & 2.833496e-03                 &      9                      \\\\\n",
       "\t apply\\_loop(combinations)   & 5.530384e-03                 & 5.370513e-03                 & 2.741550e-04                 & 1.307129e-02                 &      3                      \\\\\n",
       "\t foreach\\_loop(combinations) & 8.803406e+00                 & 1.063828e+00                 & 7.817636e+00                 & 1.058014e+01                 &      3                      \\\\\n",
       "\t for\\_loop(combinations)     & 2.028997e-03                 & 3.826046e-03                 & 2.596130e-04                 & 8.872582e-03                 &      3                      \\\\\n",
       "\\end{tabular}\n"
      ],
      "text/markdown": [
       "\n",
       "| expr | mean | sd | min | max | size |\n",
       "|---|---|---|---|---|---|\n",
       "| apply_loop(combinations)   | 1.848387e+00               | 3.015175e-01               | 1.471994e+00               | 2.226259e+00               | 177147                     |\n",
       "| foreach_loop(combinations) | 1.756939e+02               | 4.049650e+00               | 1.717026e+02               | 1.804578e+02               | 177147                     |\n",
       "| for_loop(combinations)     | 1.222849e+02               | 2.437452e+00               | 1.186793e+02               | 1.252447e+02               | 177147                     |\n",
       "| apply_loop(combinations)   | 6.452159e-01               | 1.307745e-01               | 4.601797e-01               | 7.801982e-01               |  59049                     |\n",
       "| foreach_loop(combinations) | 6.246728e+01               | 7.165803e+00               | 5.700542e+01               | 7.461992e+01               |  59049                     |\n",
       "| for_loop(combinations)     | 3.708779e+01               | 9.613432e-01               | 3.541777e+01               | 3.783785e+01               |  59049                     |\n",
       "| apply_loop(combinations)   | 2.185719e-01               | 8.620030e-02               | 1.540690e-01               | 3.656175e-01               |  19683                     |\n",
       "| foreach_loop(combinations) | 2.780690e+01               | 4.613920e+00               | 2.177694e+01               | 3.357440e+01               |  19683                     |\n",
       "| for_loop(combinations)     | 1.127049e+01               | 5.266426e-01               | 1.063290e+01               | 1.190946e+01               |  19683                     |\n",
       "| apply_loop(combinations)   | 5.888674e-02               | 9.910095e-03               | 5.019370e-02               | 6.975744e-02               |   6561                     |\n",
       "| foreach_loop(combinations) | 1.352766e+01               | 7.251917e-01               | 1.256073e+01               | 1.418346e+01               |   6561                     |\n",
       "| for_loop(combinations)     | 3.338984e+00               | 1.610815e-01               | 3.139273e+00               | 3.567581e+00               |   6561                     |\n",
       "| apply_loop(combinations)   | 1.710918e-02               | 3.091247e-03               | 1.499721e-02               | 2.237071e-02               |   2187                     |\n",
       "| foreach_loop(combinations) | 1.083804e+01               | 1.087520e+00               | 9.656102e+00               | 1.251217e+01               |   2187                     |\n",
       "| for_loop(combinations)     | 1.053878e+00               | 3.105298e-02               | 1.022057e+00               | 1.086726e+00               |   2187                     |\n",
       "| apply_loop(combinations)   | 7.342367e-03               | 2.497263e-03               | 5.242287e-03               | 1.052349e-02               |    729                     |\n",
       "| foreach_loop(combinations) | 1.078135e+01               | 2.409862e+00               | 8.325451e+00               | 1.378549e+01               |    729                     |\n",
       "| for_loop(combinations)     | 3.257564e-01               | 1.426109e-02               | 3.101118e-01               | 3.424846e-01               |    729                     |\n",
       "| apply_loop(combinations)   | 2.320430e-03               | 5.140325e-04               | 1.909242e-03               | 3.215429e-03               |    243                     |\n",
       "| foreach_loop(combinations) | 8.617141e+00               | 4.455053e-01               | 8.162380e+00               | 9.211201e+00               |    243                     |\n",
       "| for_loop(combinations)     | 9.985638e-02               | 1.557837e-02               | 8.301563e-02               | 1.190833e-01               |    243                     |\n",
       "| apply_loop(combinations)   | 9.512850e-04               | 9.314809e-05               | 8.648040e-04               | 1.070955e-03               |     81                     |\n",
       "| foreach_loop(combinations) | 8.679981e+00               | 9.159937e-01               | 7.738644e+00               | 1.009787e+01               |     81                     |\n",
       "| for_loop(combinations)     | 2.897367e-02               | 4.510389e-03               | 2.456052e-02               | 3.390228e-02               |     81                     |\n",
       "| apply_loop(combinations)   | 4.961294e-04               | 5.366293e-05               | 4.114450e-04               | 5.598560e-04               |     27                     |\n",
       "| foreach_loop(combinations) | 8.584492e+00               | 1.111153e+00               | 7.625042e+00               | 1.049534e+01               |     27                     |\n",
       "| for_loop(combinations)     | 6.967276e-03               | 2.343557e-03               | 5.693507e-03               | 1.115007e-02               |     27                     |\n",
       "| apply_loop(combinations)   | 3.702156e-04               | 1.160650e-04               | 2.450720e-04               | 5.581460e-04               |      9                     |\n",
       "| foreach_loop(combinations) | 8.923557e+00               | 1.046063e+00               | 7.948782e+00               | 1.043651e+01               |      9                     |\n",
       "| for_loop(combinations)     | 2.319831e-03               | 3.075862e-04               | 2.012317e-03               | 2.833496e-03               |      9                     |\n",
       "| apply_loop(combinations)   | 5.530384e-03               | 5.370513e-03               | 2.741550e-04               | 1.307129e-02               |      3                     |\n",
       "| foreach_loop(combinations) | 8.803406e+00               | 1.063828e+00               | 7.817636e+00               | 1.058014e+01               |      3                     |\n",
       "| for_loop(combinations)     | 2.028997e-03               | 3.826046e-03               | 2.596130e-04               | 8.872582e-03               |      3                     |\n",
       "\n"
      ],
      "text/plain": [
       "   expr                       mean         sd           min         \n",
       "1  apply_loop(combinations)   1.848387e+00 3.015175e-01 1.471994e+00\n",
       "2  foreach_loop(combinations) 1.756939e+02 4.049650e+00 1.717026e+02\n",
       "3  for_loop(combinations)     1.222849e+02 2.437452e+00 1.186793e+02\n",
       "4  apply_loop(combinations)   6.452159e-01 1.307745e-01 4.601797e-01\n",
       "5  foreach_loop(combinations) 6.246728e+01 7.165803e+00 5.700542e+01\n",
       "6  for_loop(combinations)     3.708779e+01 9.613432e-01 3.541777e+01\n",
       "7  apply_loop(combinations)   2.185719e-01 8.620030e-02 1.540690e-01\n",
       "8  foreach_loop(combinations) 2.780690e+01 4.613920e+00 2.177694e+01\n",
       "9  for_loop(combinations)     1.127049e+01 5.266426e-01 1.063290e+01\n",
       "10 apply_loop(combinations)   5.888674e-02 9.910095e-03 5.019370e-02\n",
       "11 foreach_loop(combinations) 1.352766e+01 7.251917e-01 1.256073e+01\n",
       "12 for_loop(combinations)     3.338984e+00 1.610815e-01 3.139273e+00\n",
       "13 apply_loop(combinations)   1.710918e-02 3.091247e-03 1.499721e-02\n",
       "14 foreach_loop(combinations) 1.083804e+01 1.087520e+00 9.656102e+00\n",
       "15 for_loop(combinations)     1.053878e+00 3.105298e-02 1.022057e+00\n",
       "16 apply_loop(combinations)   7.342367e-03 2.497263e-03 5.242287e-03\n",
       "17 foreach_loop(combinations) 1.078135e+01 2.409862e+00 8.325451e+00\n",
       "18 for_loop(combinations)     3.257564e-01 1.426109e-02 3.101118e-01\n",
       "19 apply_loop(combinations)   2.320430e-03 5.140325e-04 1.909242e-03\n",
       "20 foreach_loop(combinations) 8.617141e+00 4.455053e-01 8.162380e+00\n",
       "21 for_loop(combinations)     9.985638e-02 1.557837e-02 8.301563e-02\n",
       "22 apply_loop(combinations)   9.512850e-04 9.314809e-05 8.648040e-04\n",
       "23 foreach_loop(combinations) 8.679981e+00 9.159937e-01 7.738644e+00\n",
       "24 for_loop(combinations)     2.897367e-02 4.510389e-03 2.456052e-02\n",
       "25 apply_loop(combinations)   4.961294e-04 5.366293e-05 4.114450e-04\n",
       "26 foreach_loop(combinations) 8.584492e+00 1.111153e+00 7.625042e+00\n",
       "27 for_loop(combinations)     6.967276e-03 2.343557e-03 5.693507e-03\n",
       "28 apply_loop(combinations)   3.702156e-04 1.160650e-04 2.450720e-04\n",
       "29 foreach_loop(combinations) 8.923557e+00 1.046063e+00 7.948782e+00\n",
       "30 for_loop(combinations)     2.319831e-03 3.075862e-04 2.012317e-03\n",
       "31 apply_loop(combinations)   5.530384e-03 5.370513e-03 2.741550e-04\n",
       "32 foreach_loop(combinations) 8.803406e+00 1.063828e+00 7.817636e+00\n",
       "33 for_loop(combinations)     2.028997e-03 3.826046e-03 2.596130e-04\n",
       "   max          size  \n",
       "1  2.226259e+00 177147\n",
       "2  1.804578e+02 177147\n",
       "3  1.252447e+02 177147\n",
       "4  7.801982e-01  59049\n",
       "5  7.461992e+01  59049\n",
       "6  3.783785e+01  59049\n",
       "7  3.656175e-01  19683\n",
       "8  3.357440e+01  19683\n",
       "9  1.190946e+01  19683\n",
       "10 6.975744e-02   6561\n",
       "11 1.418346e+01   6561\n",
       "12 3.567581e+00   6561\n",
       "13 2.237071e-02   2187\n",
       "14 1.251217e+01   2187\n",
       "15 1.086726e+00   2187\n",
       "16 1.052349e-02    729\n",
       "17 1.378549e+01    729\n",
       "18 3.424846e-01    729\n",
       "19 3.215429e-03    243\n",
       "20 9.211201e+00    243\n",
       "21 1.190833e-01    243\n",
       "22 1.070955e-03     81\n",
       "23 1.009787e+01     81\n",
       "24 3.390228e-02     81\n",
       "25 5.598560e-04     27\n",
       "26 1.049534e+01     27\n",
       "27 1.115007e-02     27\n",
       "28 5.581460e-04      9\n",
       "29 1.043651e+01      9\n",
       "30 2.833496e-03      9\n",
       "31 1.307129e-02      3\n",
       "32 1.058014e+01      3\n",
       "33 8.872582e-03      3"
      ]
     },
     "metadata": {},
     "output_type": "display_data"
    }
   ],
   "source": [
    "mbLoops1 "
   ]
  },
  {
   "cell_type": "markdown",
   "metadata": {},
   "source": [
    "Let's plot the data to better visualize how everything looks like. "
   ]
  },
  {
   "cell_type": "code",
   "execution_count": 41,
   "metadata": {},
   "outputs": [
    {
     "data": {
      "image/png": "[encoded data removed]",
      "text/plain": [
       "Plot with title \"Mean of Different Loops Comparison\""
      ]
     },
     "metadata": {},
     "output_type": "display_data"
    }
   ],
   "source": [
    "#Adjust plot sizes\n",
    "options(repr.plot.width=10, repr.plot.height=6)\n",
    "\n",
    "plot(subset(mbLoops1, expr =='apply_loop(combinations)')$size\n",
    "     , subset(mbLoops1, expr =='apply_loop(combinations)')$mean\n",
    "     , type='o'\n",
    "     , col='red'\n",
    "     , pch=19\n",
    "     , ylim = c(0,180)\n",
    "     , ylab=\"Seconds\"\n",
    "     , xlab = \"Data Size\"\n",
    "     , main = \"Mean of Different Loops Comparison\"\n",
    "    )\n",
    "lines(subset(mbLoops1, expr =='apply_loop(combinations)')$size\n",
    "     , subset(mbLoops1, expr =='foreach_loop(combinations)')$mean \n",
    "     , type='o'\n",
    "     , col='green'\n",
    "     , pch=19\n",
    "    )\n",
    "lines(subset(mbLoops1, expr =='apply_loop(combinations)')$size\n",
    "     , subset(mbLoops1, expr =='for_loop(combinations)')$mean\n",
    "     , type='o'\n",
    "     , col='blue'\n",
    "     , pch=19\n",
    "    )\n",
    "legend(\"topleft\", c(\"apply\", \"foreach\", \"for\"), col = c(\"red\", \"green\",\"blue\"), lty=1, cex=0.8 )"
   ]
  },
  {
   "cell_type": "code",
   "execution_count": 42,
   "metadata": {},
   "outputs": [
    {
     "data": {
      "image/png": "[encoded data removed]",
      "text/plain": [
       "Plot with title \"SD of Different Loops Comparison\""
      ]
     },
     "metadata": {},
     "output_type": "display_data"
    }
   ],
   "source": [
    "#Adjust plot sizes\n",
    "options(repr.plot.width=10, repr.plot.height=6)\n",
    "\n",
    "plot(subset(mbLoops1, expr =='apply_loop(combinations)')$size\n",
    "     , subset(mbLoops1, expr =='apply_loop(combinations)')$sd\n",
    "     , type='o'\n",
    "     , col='red'\n",
    "     , pch=19\n",
    "     , ylim = c(0,15)\n",
    "     , ylab=\"Seconds\"\n",
    "     , xlab = \"Data Size\"\n",
    "     , main = \"SD of Different Loops Comparison\"\n",
    "    )\n",
    "lines(subset(mbLoops1, expr =='apply_loop(combinations)')$size\n",
    "     , subset(mbLoops1, expr =='foreach_loop(combinations)')$sd\n",
    "     , type='o'\n",
    "     , col='green'\n",
    "     , pch=19\n",
    "    )\n",
    "lines(subset(mbLoops1, expr =='apply_loop(combinations)')$size\n",
    "     , subset(mbLoops1, expr =='for_loop(combinations)')$sd\n",
    "     , type='o'\n",
    "     , col='blue'\n",
    "     , pch=19\n",
    "    )\n",
    "legend(\"topleft\", c(\"apply\", \"foreach\", \"for\"), col = c(\"red\", \"green\",\"blue\"), lty=1, cex=0.8 )"
   ]
  },
  {
   "cell_type": "markdown",
   "metadata": {},
   "source": [
    "From the above study, we can observe that apply loop was consistently much faster compared to either for or foreach loop. As the data size increases, the time to run also increased linearly in for and foreach loop. On the other hand for apply, there was almost no change in time to run apply loop. "
   ]
  },
  {
   "cell_type": "code",
   "execution_count": 38,
   "metadata": {},
   "outputs": [
    {
     "data": {
      "text/plain": [
       "R version 3.5.1 (2018-07-02)\n",
       "Platform: x86_64-w64-mingw32/x64 (64-bit)\n",
       "Running under: Windows 10 x64 (build 14393)\n",
       "\n",
       "Matrix products: default\n",
       "\n",
       "locale:\n",
       "[1] LC_COLLATE=English_United States.1252 \n",
       "[2] LC_CTYPE=English_United States.1252   \n",
       "[3] LC_MONETARY=English_United States.1252\n",
       "[4] LC_NUMERIC=C                          \n",
       "[5] LC_TIME=English_United States.1252    \n",
       "\n",
       "attached base packages:\n",
       "[1] parallel  stats     graphics  grDevices utils     datasets  methods  \n",
       "[8] base     \n",
       "\n",
       "other attached packages:\n",
       "[1] doParallel_1.0.13    iterators_1.0.10     foreach_1.5.0       \n",
       "[4] microbenchmark_1.4-4 dplyr_0.7.8          RevoUtils_11.0.1    \n",
       "[7] RevoUtilsMath_11.0.0\n",
       "\n",
       "loaded via a namespace (and not attached):\n",
       " [1] Rcpp_1.0.0           bindr_0.1.1          magrittr_1.5        \n",
       " [4] tidyselect_0.2.5     uuid_0.1-2           R6_2.2.2            \n",
       " [7] rlang_0.3.1          tools_3.5.1          htmltools_0.3.6     \n",
       "[10] digest_0.6.15        assertthat_0.2.0     tibble_1.4.2        \n",
       "[13] crayon_1.3.4         bindrcpp_0.2.2       IRdisplay_0.7.0.9000\n",
       "[16] purrr_0.2.5          repr_0.19.1.9000     codetools_0.2-15    \n",
       "[19] base64enc_0.1-3      IRkernel_0.8.15.9000 glue_1.3.0          \n",
       "[22] evaluate_0.12        pbdZMQ_0.3-3         compiler_3.5.1      \n",
       "[25] pillar_1.3.0         jsonlite_1.5         pkgconfig_2.0.2     "
      ]
     },
     "metadata": {},
     "output_type": "display_data"
    }
   ],
   "source": [
    "sessionInfo()"
   ]
  }
 ],
 "metadata": {
  "kernelspec": {
   "display_name": "R",
   "language": "R",
   "name": "ir"
  },
  "language_info": {
   "codemirror_mode": "r",
   "file_extension": ".r",
   "mimetype": "text/x-r-source",
   "name": "R",
   "pygments_lexer": "r",
   "version": "3.5.1"
  }
 },
 "nbformat": 4,
 "nbformat_minor": 2
}
